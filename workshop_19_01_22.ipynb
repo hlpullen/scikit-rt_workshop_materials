{
 "cells": [
  {
   "cell_type": "markdown",
   "id": "847ad107",
   "metadata": {},
   "source": [
    "# SciKit-RT workshop 19/01/21"
   ]
  },
  {
   "cell_type": "markdown",
   "id": "1cf95eab",
   "metadata": {},
   "source": [
    "## Images"
   ]
  },
  {
   "cell_type": "code",
   "execution_count": null,
   "id": "768a316b",
   "metadata": {},
   "outputs": [],
   "source": [
    "# Set path to sample data\n",
    "data_path = \"/Users/hannahpullen/Work/Workshop/sample_data\""
   ]
  },
  {
   "cell_type": "markdown",
   "id": "a6bdfa02",
   "metadata": {},
   "source": [
    "### Loading an image from a dicom file"
   ]
  },
  {
   "cell_type": "code",
   "execution_count": null,
   "id": "be39bea6",
   "metadata": {},
   "outputs": [],
   "source": [
    "from skrt import Image\n",
    "\n",
    "im = Image(f\"{data_path}/head_and_neck/CT/image\")\n",
    "im"
   ]
  },
  {
   "cell_type": "markdown",
   "id": "7da6a733",
   "metadata": {},
   "source": [
    "### Press `tab` to see possible functions"
   ]
  },
  {
   "cell_type": "code",
   "execution_count": null,
   "id": "6f2641e6",
   "metadata": {},
   "outputs": [],
   "source": [
    "im."
   ]
  },
  {
   "cell_type": "code",
   "execution_count": null,
   "id": "cdabfd9e",
   "metadata": {},
   "outputs": [],
   "source": [
    "# Examine its properties\n",
    "print(\"Voxel size:\", im.get_voxel_size())\n",
    "print(\"Origin:\", im.get_origin())\n",
    "print(\"Number of voxels:\", im.get_n_voxels())"
   ]
  },
  {
   "cell_type": "code",
   "execution_count": null,
   "id": "c42ea939",
   "metadata": {},
   "outputs": [],
   "source": [
    "# Access the image array\n",
    "data = im.get_data()\n",
    "data.shape"
   ]
  },
  {
   "cell_type": "markdown",
   "id": "a77d55b7",
   "metadata": {},
   "source": [
    "### Plotting an image"
   ]
  },
  {
   "cell_type": "code",
   "execution_count": null,
   "id": "087e3e5a",
   "metadata": {},
   "outputs": [],
   "source": [
    "im.plot()"
   ]
  },
  {
   "cell_type": "markdown",
   "id": "69230b82",
   "metadata": {},
   "source": [
    "### Customising the plot"
   ]
  },
  {
   "cell_type": "code",
   "execution_count": null,
   "id": "f19fe0bc",
   "metadata": {},
   "outputs": [],
   "source": [
    "# Use python's \"help\" function for documentation\n",
    "help(im.plot)"
   ]
  },
  {
   "cell_type": "code",
   "execution_count": null,
   "id": "65d7dcb0",
   "metadata": {},
   "outputs": [],
   "source": [
    "# Plotting with extra arguments\n",
    "im.plot(\n",
    "    pos=20,\n",
    "    annotate_slice='lime',\n",
    "    zoom=1.5,\n",
    "    colorbar=True,\n",
    "    title='Head and neck CT scan',\n",
    "    major_ticks=100,\n",
    "    minor_ticks=10\n",
    ")"
   ]
  },
  {
   "cell_type": "markdown",
   "id": "e3bd4489",
   "metadata": {},
   "source": [
    "### Interactive plotting with `view()`"
   ]
  },
  {
   "cell_type": "code",
   "execution_count": null,
   "id": "da8f3a4f",
   "metadata": {},
   "outputs": [],
   "source": [
    "im.view(colorbar=True)"
   ]
  },
  {
   "cell_type": "markdown",
   "id": "ab7506b9",
   "metadata": {},
   "source": [
    "### Writing an image"
   ]
  },
  {
   "cell_type": "code",
   "execution_count": null,
   "id": "1bf05e3a",
   "metadata": {},
   "outputs": [],
   "source": [
    "im.write(\"my_image.nii\")    # nifti\n",
    "im.write(\"my_image_dicom\")  # dicom"
   ]
  },
  {
   "cell_type": "markdown",
   "id": "2f8c7ad3",
   "metadata": {},
   "source": [
    "### Comparing two images"
   ]
  },
  {
   "cell_type": "code",
   "execution_count": null,
   "id": "01131f89",
   "metadata": {},
   "outputs": [],
   "source": [
    "# Load MVCT scans from different treatment days\n",
    "im1 = Image(f\"{data_path}/head_and_neck/MVCT/1/image\", title=\"MVCT 1\")\n",
    "im2 = Image(f\"{data_path}/head_and_neck/MVCT/2/image\", title=\"MVCT 2\")"
   ]
  },
  {
   "cell_type": "code",
   "execution_count": null,
   "id": "677784a6",
   "metadata": {},
   "outputs": [],
   "source": [
    "# View side-by-side\n",
    "im1.view(images=im2)"
   ]
  },
  {
   "cell_type": "code",
   "execution_count": null,
   "id": "835e16d0",
   "metadata": {},
   "outputs": [],
   "source": [
    "# Create a comparison image\n",
    "im1.view(images=im2, comparison=True)"
   ]
  },
  {
   "cell_type": "code",
   "execution_count": null,
   "id": "5ce65c83",
   "metadata": {},
   "outputs": [],
   "source": [
    "# View the comparison image only\n",
    "im1.view(images=im2, comparison=True, comparison_only=True)"
   ]
  },
  {
   "cell_type": "markdown",
   "id": "573100e2",
   "metadata": {},
   "source": [
    "### Image manipulation"
   ]
  },
  {
   "cell_type": "code",
   "execution_count": null,
   "id": "94f8a647",
   "metadata": {},
   "outputs": [],
   "source": [
    "# Transforming\n",
    "im2 = im.clone()  # Make a clone of original image so we don't change it\n",
    "im2.transform(translation=[100, 100, 0], rotation=[0, 0, 45])\n",
    "im2.plot()"
   ]
  },
  {
   "cell_type": "code",
   "execution_count": null,
   "id": "30a53661",
   "metadata": {},
   "outputs": [],
   "source": [
    "# Resampling\n",
    "im2 = im.clone()\n",
    "im2.resample(voxel_size=[10, 10, None])\n",
    "im2.plot()"
   ]
  },
  {
   "cell_type": "code",
   "execution_count": null,
   "id": "e25ba76f",
   "metadata": {},
   "outputs": [],
   "source": [
    "# Cropping\n",
    "im2 = im.clone()\n",
    "im2.crop(xlim=[-80, 100], ylim=[-150, 100])\n",
    "im2.plot()"
   ]
  },
  {
   "cell_type": "markdown",
   "id": "4066604c",
   "metadata": {},
   "source": [
    "## Structure sets and ROIs"
   ]
  },
  {
   "cell_type": "markdown",
   "id": "150bdaaa",
   "metadata": {},
   "source": [
    "### Load a structure set from dicom"
   ]
  },
  {
   "cell_type": "code",
   "execution_count": null,
   "id": "9ffe1d32",
   "metadata": {},
   "outputs": [],
   "source": [
    "from skrt import StructureSet\n",
    "\n",
    "structs = StructureSet(f\"{data_path}/head_and_neck/CT/RTSTRUCT.dcm\")\n",
    "structs"
   ]
  },
  {
   "cell_type": "markdown",
   "id": "ea292452",
   "metadata": {},
   "source": [
    "### Print ROI names"
   ]
  },
  {
   "cell_type": "code",
   "execution_count": null,
   "id": "2450f359",
   "metadata": {},
   "outputs": [],
   "source": [
    "structs.print_rois()"
   ]
  },
  {
   "cell_type": "markdown",
   "id": "42855dd3",
   "metadata": {},
   "source": [
    "### View the entire structure set"
   ]
  },
  {
   "cell_type": "code",
   "execution_count": null,
   "id": "b9b0f6c0",
   "metadata": {},
   "outputs": [],
   "source": [
    "structs.view()"
   ]
  },
  {
   "cell_type": "markdown",
   "id": "72bb3ee4",
   "metadata": {},
   "source": [
    "### Access a single ROI"
   ]
  },
  {
   "cell_type": "code",
   "execution_count": null,
   "id": "7873ad4b",
   "metadata": {},
   "outputs": [],
   "source": [
    "rois = structs.get_rois()\n",
    "rois"
   ]
  },
  {
   "cell_type": "code",
   "execution_count": null,
   "id": "b748e136",
   "metadata": {},
   "outputs": [],
   "source": [
    "# Access by name\n",
    "roi = structs.get_roi(\"right parotid\")\n",
    "roi.view(roi_plot_type='filled')"
   ]
  },
  {
   "cell_type": "markdown",
   "id": "ffcb8428",
   "metadata": {},
   "source": [
    "### Access the raw data of an ROI\n",
    "Two ways to represent an ROI:\n",
    "- Lists of contour points on each slice\n",
    "- Binary mask"
   ]
  },
  {
   "cell_type": "code",
   "execution_count": null,
   "id": "c3bdbed1",
   "metadata": {},
   "outputs": [],
   "source": [
    "# Contours\n",
    "contours = roi.get_contours()\n",
    "contours"
   ]
  },
  {
   "cell_type": "code",
   "execution_count": null,
   "id": "cfd22ffa",
   "metadata": {},
   "outputs": [],
   "source": [
    "# Can also get contours in different orientations: 'x-y' (axial), 'x-z' (coronal), or 'y-z' (sagittal)\n",
    "contours_xz = roi.get_contours('x-z')\n",
    "roi.plot('x-z')"
   ]
  },
  {
   "cell_type": "code",
   "execution_count": null,
   "id": "e942838c",
   "metadata": {},
   "outputs": [],
   "source": [
    "# Binary mask\n",
    "mask = roi.get_mask()\n",
    "mask"
   ]
  },
  {
   "cell_type": "code",
   "execution_count": null,
   "id": "0e69a8c3",
   "metadata": {},
   "outputs": [],
   "source": [
    "roi.plot(plot_type=\"mask\")"
   ]
  },
  {
   "cell_type": "code",
   "execution_count": null,
   "id": "482a5c86",
   "metadata": {},
   "outputs": [],
   "source": [
    "# Plot mask and contour together\n",
    "roi.plot(plot_type=\"filled\")"
   ]
  },
  {
   "cell_type": "code",
   "execution_count": null,
   "id": "c2914c6c",
   "metadata": {},
   "outputs": [],
   "source": [
    "# Interactive viewing\n",
    "roi.view()"
   ]
  },
  {
   "cell_type": "markdown",
   "id": "48a3c367",
   "metadata": {},
   "source": [
    "### Get the geometric properties of an ROI"
   ]
  },
  {
   "cell_type": "code",
   "execution_count": null,
   "id": "27ed8001",
   "metadata": {
    "scrolled": true
   },
   "outputs": [],
   "source": [
    "roi.get_"
   ]
  },
  {
   "cell_type": "code",
   "execution_count": null,
   "id": "9bcb2e8d",
   "metadata": {},
   "outputs": [],
   "source": [
    "print(\"Volume:\", roi.get_volume())\n",
    "print(\"Area on central slice:\", roi.get_area())\n",
    "print(\"Centroid position:\", roi.get_centroid())"
   ]
  },
  {
   "cell_type": "code",
   "execution_count": null,
   "id": "df15a3bd",
   "metadata": {},
   "outputs": [],
   "source": [
    "# Get multiple properties in a table\n",
    "roi.get_geometry()"
   ]
  },
  {
   "cell_type": "code",
   "execution_count": null,
   "id": "28865dba",
   "metadata": {},
   "outputs": [],
   "source": [
    "help(roi.get_geometry)"
   ]
  },
  {
   "cell_type": "markdown",
   "id": "a6b1be58",
   "metadata": {},
   "source": [
    "### Get geometric properties of all ROIs in the structure set"
   ]
  },
  {
   "cell_type": "code",
   "execution_count": null,
   "id": "dbce09de",
   "metadata": {},
   "outputs": [],
   "source": [
    "structs.get_geometry()"
   ]
  },
  {
   "cell_type": "code",
   "execution_count": null,
   "id": "3f15f9c2",
   "metadata": {},
   "outputs": [],
   "source": [
    "structs.get_geometry(\n",
    "    metrics=[\"volume\", \"area\", \"length_z\"], \n",
    "    decimal_places=2, \n",
    "    vol_units=\"ml\"\n",
    ")"
   ]
  },
  {
   "cell_type": "code",
   "execution_count": null,
   "id": "41ba45b6",
   "metadata": {},
   "outputs": [],
   "source": [
    "# This output is a pandas DataFrame - can write to csv, tex, etc\n",
    "df = structs.get_geometry()\n",
    "df.to_csv('geometric_data.csv')"
   ]
  },
  {
   "cell_type": "markdown",
   "id": "6dbfec06",
   "metadata": {},
   "source": [
    "### Assigning an Image to a StructureSet\n",
    "\n",
    "Two ways:\n",
    "- Use the `image` argument when creating the StructureSet\n",
    "- Use the `set_image()` function on the StructureSet"
   ]
  },
  {
   "cell_type": "code",
   "execution_count": null,
   "id": "344004eb",
   "metadata": {},
   "outputs": [],
   "source": [
    "from skrt import StructureSet\n",
    "structs = StructureSet(f\"{data_path}/head_and_neck/CT/RTSTRUCT.dcm\", image=im)"
   ]
  },
  {
   "cell_type": "code",
   "execution_count": null,
   "id": "b9b7773d",
   "metadata": {
    "scrolled": false
   },
   "outputs": [],
   "source": [
    "# View interactively with image\n",
    "structs.view()"
   ]
  },
  {
   "cell_type": "code",
   "execution_count": null,
   "id": "7a4f999b",
   "metadata": {},
   "outputs": [],
   "source": [
    "# View interactively with geometric data\n",
    "structs.view(roi_info=True)"
   ]
  },
  {
   "cell_type": "markdown",
   "id": "15e5467c",
   "metadata": {},
   "source": [
    "### Comparing ROIs"
   ]
  },
  {
   "cell_type": "code",
   "execution_count": null,
   "id": "31404642",
   "metadata": {},
   "outputs": [],
   "source": [
    "# Extract two ROIs from the structure set and compare them\n",
    "right_parotid = structs.get_roi(\"right parotid\")\n",
    "left_parotid = structs.get_roi(\"left parotid\")"
   ]
  },
  {
   "cell_type": "code",
   "execution_count": null,
   "id": "f309bb03",
   "metadata": {},
   "outputs": [],
   "source": [
    "right_parotid.get_relative_area_diff(left_parotid)"
   ]
  },
  {
   "cell_type": "code",
   "execution_count": null,
   "id": "d588b28b",
   "metadata": {},
   "outputs": [],
   "source": [
    "print(\"Distance:\", right_parotid.get_abs_centroid_distance(left_parotid))\n",
    "print(\"Dice score:\", right_parotid.get_dice(left_parotid))"
   ]
  },
  {
   "cell_type": "code",
   "execution_count": null,
   "id": "5518e1d8",
   "metadata": {},
   "outputs": [],
   "source": [
    "# Can also get comparison table as a DataFrame\n",
    "right_parotid.get_comparison(left_parotid)"
   ]
  },
  {
   "cell_type": "markdown",
   "id": "5ad63eca",
   "metadata": {},
   "source": [
    "### Comparing one structure set to another"
   ]
  },
  {
   "cell_type": "code",
   "execution_count": null,
   "id": "938adb0d",
   "metadata": {},
   "outputs": [],
   "source": [
    "# Let's load one of the MVCT structure sets and print its ROIs...\n",
    "structs_mv = StructureSet(f\"{data_path}/head_and_neck/MVCT/1/RTSTRUCT.dcm\")\n",
    "structs_mv.print_rois()"
   ]
  },
  {
   "cell_type": "code",
   "execution_count": null,
   "id": "9e7ccc28",
   "metadata": {},
   "outputs": [],
   "source": [
    "# Let's look again at the ROIs in the kVCT structure set...\n",
    "structs.print_rois()"
   ]
  },
  {
   "cell_type": "markdown",
   "id": "80dbc759",
   "metadata": {},
   "source": [
    "### Renaming and filtering ROIs"
   ]
  },
  {
   "cell_type": "code",
   "execution_count": null,
   "id": "455a9749",
   "metadata": {},
   "outputs": [],
   "source": [
    "# Make a naming dictionary (note: case insensitive, * for wildcard)\n",
    "# Maps desired name : potential input names\n",
    "\n",
    "names = {\n",
    "    'MPC': 'mpc',\n",
    "    'Oral cavity': 'oral*cavity',\n",
    "    'SPC': 'spc',\n",
    "    'SG larynx': 'sg*',\n",
    "    'Left parotid': ['left*parotid', 'parotid*left'],\n",
    "    'Right parotid': ['right*parotid', 'parotid*right']\n",
    "}"
   ]
  },
  {
   "cell_type": "code",
   "execution_count": null,
   "id": "a6a5c1f4",
   "metadata": {},
   "outputs": [],
   "source": [
    "# Make a filtered copy of original structure set\n",
    "structs_kv = structs.filtered_copy(names=names, keep_renamed_only=True)\n",
    "structs_kv.print_rois()\n",
    "structs_kv.view()"
   ]
  },
  {
   "cell_type": "code",
   "execution_count": null,
   "id": "f7524608",
   "metadata": {},
   "outputs": [],
   "source": [
    "# Could also load the StructureSet with the naming dictionary\n",
    "structs_mv = StructureSet(\n",
    "    f\"{data_path}/head_and_neck/MVCT/1/RTSTRUCT.dcm\",  \n",
    "    names=names, \n",
    "    keep_renamed_only=True,\n",
    "    ignore_dicom_colors=True,\n",
    "    image=im\n",
    ")\n",
    "structs_mv.print_rois()\n",
    "structs_mv.view()"
   ]
  },
  {
   "cell_type": "code",
   "execution_count": null,
   "id": "d62045d2",
   "metadata": {},
   "outputs": [],
   "source": [
    "# Get comparison table\n",
    "structs_kv.get_comparison(\n",
    "    structs_mv, \n",
    "    metrics=[\"dice\", \"centroid\"],\n",
    "    decimal_places=2\n",
    ")"
   ]
  },
  {
   "cell_type": "code",
   "execution_count": null,
   "id": "c15ce019",
   "metadata": {
    "scrolled": false
   },
   "outputs": [],
   "source": [
    "# Plot comparisons\n",
    "roi = structs_kv.get_roi(\"Oral cavity\")\n",
    "roi2 = structs_mv.get_roi(\"Oral cavity\")\n",
    "roi.plot_comparison(roi2, names=['kVCT', 'MVCT'], plot_type='centroid')"
   ]
  },
  {
   "cell_type": "code",
   "execution_count": null,
   "id": "1fcc8658",
   "metadata": {
    "scrolled": false
   },
   "outputs": [],
   "source": [
    "# Interactively view both structure sets\n",
    "im.view(rois=[structs_kv, structs_mv], compare_rois=['dice', 'dice_slice'])"
   ]
  },
  {
   "cell_type": "code",
   "execution_count": null,
   "id": "8d92744a",
   "metadata": {},
   "outputs": [],
   "source": []
  },
  {
   "cell_type": "markdown",
   "id": "bdc14b7e",
   "metadata": {},
   "source": [
    "### Consensus contours"
   ]
  },
  {
   "cell_type": "code",
   "execution_count": null,
   "id": "87e2180f",
   "metadata": {},
   "outputs": [],
   "source": [
    "# Load ROIs from multiple nifti files\n",
    "from skrt import StructureSet\n",
    "\n",
    "iov = StructureSet(f\"{data_path}/rectum_iov/\")\n",
    "iov.print_rois()"
   ]
  },
  {
   "cell_type": "code",
   "execution_count": null,
   "id": "79620d90",
   "metadata": {},
   "outputs": [],
   "source": [
    "iov.plot(plot_type=\"contour\", idx=7)"
   ]
  },
  {
   "cell_type": "code",
   "execution_count": null,
   "id": "34244775",
   "metadata": {},
   "outputs": [],
   "source": [
    "staple = iov.get_staple()\n",
    "staple.plot(idx=7)"
   ]
  },
  {
   "cell_type": "code",
   "execution_count": null,
   "id": "0c0d525c",
   "metadata": {},
   "outputs": [],
   "source": [
    "# Quick consensus plotting functions\n",
    "iov.plot_consensus('majority', rois_in_background=True, color='blue', idx=7)"
   ]
  },
  {
   "cell_type": "code",
   "execution_count": null,
   "id": "d758c416",
   "metadata": {
    "scrolled": false
   },
   "outputs": [],
   "source": [
    "# Interactively compare each contour to the consensus of all others\n",
    "iov.view(roi_plot_type='contour', roi_consensus=True, compare_rois=['dice', 'dice_slice'])"
   ]
  },
  {
   "cell_type": "code",
   "execution_count": null,
   "id": "a57b3b48",
   "metadata": {},
   "outputs": [],
   "source": [
    "# Compare every ROI to the consensus of all others\n",
    "iov.get_comparison(comp_type='consensus', consensus_type='majority')"
   ]
  },
  {
   "cell_type": "markdown",
   "id": "311bda7f",
   "metadata": {},
   "source": [
    "### Loading ROIs from a multi-label array"
   ]
  },
  {
   "cell_type": "code",
   "execution_count": null,
   "id": "045e88b1",
   "metadata": {},
   "outputs": [],
   "source": [
    "# Try loading the output of an InnerEye segmentation...\n",
    "from skrt import StructureSet\n",
    "structs_innereye = StructureSet(f\"{data_path}/innereye/segmentation.nii.gz\", \n",
    "                                image=\"sample_data/innereye/MVCT.nii.gz\")\n",
    "structs_innereye.view(roi_plot_type='mask')"
   ]
  },
  {
   "cell_type": "code",
   "execution_count": null,
   "id": "b438da47",
   "metadata": {},
   "outputs": [],
   "source": [
    "# Load with the multi_label option\n",
    "structs_innereye = StructureSet(f\"{data_path}/innereye/segmentation.nii.gz\", \n",
    "                                image=f\"{data_path}/innereye/MVCT.nii.gz\",\n",
    "                                multi_label=True)\n",
    "structs_innereye.view(roi_plot_type='mask')"
   ]
  },
  {
   "cell_type": "code",
   "execution_count": null,
   "id": "fa7184bf",
   "metadata": {},
   "outputs": [],
   "source": [
    "# Set custom names\n",
    "names = [\"bladder\", \"femur1\", \"femur2\", \"prostate\", \"rectum\"]\n",
    "structs_innereye = StructureSet(f\"{data_path}/innereye/segmentation.nii.gz\", \n",
    "                                image=f\"{data_path}/innereye/MVCT.nii.gz\",\n",
    "                                multi_label=True,\n",
    "                                names=names\n",
    "                               )\n",
    "structs_innereye.view(roi_plot_type='mask')"
   ]
  },
  {
   "cell_type": "markdown",
   "id": "0485c4e3",
   "metadata": {},
   "source": [
    "## Dose maps"
   ]
  },
  {
   "cell_type": "markdown",
   "id": "848f5b4f",
   "metadata": {},
   "source": [
    "### Load a dose map from dicom"
   ]
  },
  {
   "cell_type": "code",
   "execution_count": null,
   "id": "a5f6bf99",
   "metadata": {},
   "outputs": [],
   "source": [
    "from skrt import Dose\n",
    "\n",
    "dose = Dose(f\"{data_path}/head_and_neck/CT/RTDOSE.dcm\")\n",
    "dose.view(colorbar=True)"
   ]
  },
  {
   "cell_type": "code",
   "execution_count": null,
   "id": "d84b4c3f",
   "metadata": {},
   "outputs": [],
   "source": [
    "# Assign an image and view overlay\n",
    "dose.set_image(im)\n",
    "dose.view(include_image=True, title=\"Image with dose\")"
   ]
  },
  {
   "cell_type": "markdown",
   "id": "3ca2b528",
   "metadata": {},
   "source": [
    "### Get dose inside an ROI"
   ]
  },
  {
   "cell_type": "code",
   "execution_count": null,
   "id": "4e64b744",
   "metadata": {},
   "outputs": [],
   "source": [
    "# Get mean dose in left parotid \n",
    "\n",
    "roi = structs_kv.get_roi(\"Left parotid\")\n",
    "\n",
    "print(\"mean dose:\", dose.get_mean_dose(roi))"
   ]
  },
  {
   "cell_type": "code",
   "execution_count": null,
   "id": "db7fa5b6",
   "metadata": {},
   "outputs": [],
   "source": [
    "# Get dose inside every voxel in the ROI\n",
    "print(dose.get_dose_in_roi(roi))"
   ]
  },
  {
   "cell_type": "markdown",
   "id": "96d5b2f9",
   "metadata": {},
   "source": [
    "### Plot dose-volume histogram"
   ]
  },
  {
   "cell_type": "code",
   "execution_count": null,
   "id": "b1df8ecb",
   "metadata": {},
   "outputs": [],
   "source": [
    "dose.plot_DVH(roi)"
   ]
  },
  {
   "cell_type": "markdown",
   "id": "0ee41d03",
   "metadata": {},
   "source": [
    "## Image registration"
   ]
  },
  {
   "cell_type": "markdown",
   "id": "e1335e89",
   "metadata": {},
   "source": [
    "- Making a Registration object\n",
    "- Viewing and adding default parameter files\n",
    "- Running the registration, viewing results\n",
    "- Transforming a dose field (then compare)\n",
    "- Transforming a structure set one way\n",
    "- Compare\n",
    "- Get consensus of both ways"
   ]
  },
  {
   "cell_type": "markdown",
   "id": "54afe1d5",
   "metadata": {},
   "source": [
    "### Create a Registration object"
   ]
  },
  {
   "cell_type": "code",
   "execution_count": null,
   "id": "9cf9e976",
   "metadata": {},
   "outputs": [],
   "source": [
    "# First, set elastix directory if needed\n",
    "from skrt.registration import set_elastix_dir\n",
    "set_elastix_dir(\"/Users/hannahpullen/elastix-5.0.1-mac/\")"
   ]
  },
  {
   "cell_type": "code",
   "execution_count": null,
   "id": "ddd4ff88",
   "metadata": {},
   "outputs": [],
   "source": [
    "# Create a Registration object\n",
    "from skrt.registration import Registration\n",
    "\n",
    "reg = Registration(\n",
    "    'mvct_fixed',\n",
    "    fixed=f'{data_path}/head_and_neck/MVCT/1/image/',\n",
    "    moving=f'{data_path}/head_and_neck/CT/image/',\n",
    "    overwrite=True  # Remove any existing data\n",
    ")"
   ]
  },
  {
   "cell_type": "code",
   "execution_count": null,
   "id": "dd2413c5",
   "metadata": {},
   "outputs": [],
   "source": [
    "# View the contents of the registration\n",
    "reg"
   ]
  },
  {
   "cell_type": "code",
   "execution_count": null,
   "id": "24a54d3b",
   "metadata": {},
   "outputs": [],
   "source": [
    "# View input images\n",
    "reg.view_init()"
   ]
  },
  {
   "cell_type": "code",
   "execution_count": null,
   "id": "b6f431ac",
   "metadata": {},
   "outputs": [],
   "source": [
    "# View registration steps (none added yet!)\n",
    "reg.steps"
   ]
  },
  {
   "cell_type": "code",
   "execution_count": null,
   "id": "34aaef07",
   "metadata": {},
   "outputs": [],
   "source": [
    "# Add a step\n",
    "elastix_dir = \"/Users/hannahpullen/Dropbox/scikit-rt workshop/elastix_params\"\n",
    "reg.clear()\n",
    "reg.add_pfile(f\"{elastix_dir}/MI_Translation.txt\", name=\"translation\")"
   ]
  },
  {
   "cell_type": "code",
   "execution_count": null,
   "id": "f96e97d5",
   "metadata": {},
   "outputs": [],
   "source": [
    "reg.steps"
   ]
  },
  {
   "cell_type": "code",
   "execution_count": null,
   "id": "e9490de7",
   "metadata": {},
   "outputs": [],
   "source": [
    "# Inspect the contents of the input file\n",
    "reg.get_input_parameters(\"translation\")"
   ]
  },
  {
   "cell_type": "code",
   "execution_count": null,
   "id": "4e2b0266",
   "metadata": {},
   "outputs": [],
   "source": [
    "# Adjust a parameter\n",
    "reg.adjust_pfile(\"translation\", params={\"MaximumNumberOfIterations\": 400})\n",
    "reg.get_input_parameters(\"translation\")"
   ]
  },
  {
   "cell_type": "code",
   "execution_count": null,
   "id": "7c7d43ec",
   "metadata": {},
   "outputs": [],
   "source": []
  },
  {
   "cell_type": "code",
   "execution_count": null,
   "id": "cd357ecc",
   "metadata": {},
   "outputs": [],
   "source": [
    "# Perform registration\n",
    "reg.register()"
   ]
  },
  {
   "cell_type": "code",
   "execution_count": null,
   "id": "5ec18cf3",
   "metadata": {},
   "outputs": [],
   "source": [
    "# View the results\n",
    "reg.view_result()"
   ]
  },
  {
   "cell_type": "code",
   "execution_count": null,
   "id": "a1f9c07b",
   "metadata": {},
   "outputs": [],
   "source": [
    "# Maybe we need to add another step! Add a BSpline (deformable) step\n",
    "reg.add_pfile(f\"{elastix_dir}/MI_BSpline30.txt\", name=\"bspline\")\n",
    "reg.steps"
   ]
  },
  {
   "cell_type": "code",
   "execution_count": null,
   "id": "7394107b",
   "metadata": {
    "scrolled": false
   },
   "outputs": [],
   "source": [
    "reg.capture_output = True\n",
    "reg.view_result()"
   ]
  },
  {
   "cell_type": "code",
   "execution_count": null,
   "id": "a68d1550",
   "metadata": {},
   "outputs": [],
   "source": [
    "# Load a pre-existing registration result\n",
    "reg = Registration(\"mvct_fixed\")\n",
    "reg"
   ]
  },
  {
   "cell_type": "markdown",
   "id": "42e8c802",
   "metadata": {},
   "source": [
    "### Transforming dose fields"
   ]
  },
  {
   "cell_type": "code",
   "execution_count": null,
   "id": "62ee029f",
   "metadata": {},
   "outputs": [],
   "source": [
    "from skrt import Dose\n",
    "\n",
    "dose_kv = Dose(f\"{data_path}/head_and_neck/CT/RTDOSE.dcm\")\n",
    "reg.capture_output = True\n",
    "dose_transformed = reg.transform(dose_kv)\n",
    "\n",
    "dose_mv = Dose(f\"{data_path}/head_and_neck/MVCT/1/RTDOSE.dcm\")\n",
    "dose_transformed.view(images=dose_mv, comparison=True)"
   ]
  },
  {
   "cell_type": "markdown",
   "id": "3eeedf21",
   "metadata": {},
   "source": [
    "### Transforming StructureSets\n",
    "Image registration gives us a transform that maps each position in the **fixed image** to its corresponding location in the **moving image**. This gives us two ways to transform contours:\n",
    "\n",
    "1. **Pull** contours from moving image to fixed image by resampling the contour binary mask into the fixed image's frame of reference.\n",
    "\n",
    "2. **Push** contours from fixed image to moving image by applying the transform to the contour points."
   ]
  },
  {
   "cell_type": "code",
   "execution_count": null,
   "id": "28e12bda",
   "metadata": {},
   "outputs": [],
   "source": [
    "# Resample the kVCT structures (as binary masks) into the MVCT domain\n",
    "from skrt import StructureSet\n",
    "\n",
    "names = {\n",
    "    'MPC': 'mpc',\n",
    "    'Oral cavity': 'oral*cavity',\n",
    "    'SPC': 'spc',\n",
    "    'SG larynx': 'sg*',\n",
    "    'Left parotid': ['left*parotid', 'parotid*left'],\n",
    "    'Right parotid': ['right*parotid', 'parotid*right']\n",
    "}\n",
    "structs_kv = StructureSet(f\"{data_path}/head_and_neck/CT/RTSTRUCT.dcm\", names=names, keep_renamed_only=True)\n",
    "structs_kv_transformed = reg.transform(structs_kv)"
   ]
  },
  {
   "cell_type": "code",
   "execution_count": null,
   "id": "1babf199",
   "metadata": {},
   "outputs": [],
   "source": [
    "structs_kv_transformed.view()"
   ]
  },
  {
   "cell_type": "code",
   "execution_count": null,
   "id": "f16bc820",
   "metadata": {
    "scrolled": false
   },
   "outputs": [],
   "source": [
    "# Compare the propagated ROIs with the manually drawn ROIs\n",
    "structs_mv = StructureSet(f\"{data_path}/head_and_neck/MVCT/1/RTSTRUCT.dcm\", names=names, image=reg.fixed_image,\n",
    "                          ignore_dicom_colors=True)\n",
    "structs_mv.view(rois=structs_kv_transformed, compare_rois=True)"
   ]
  },
  {
   "cell_type": "markdown",
   "id": "e1211cc8",
   "metadata": {},
   "source": [
    "### Transforming contour points"
   ]
  },
  {
   "cell_type": "code",
   "execution_count": null,
   "id": "a7431186",
   "metadata": {},
   "outputs": [],
   "source": [
    "# Need to find a transform in the opposite direction (kVCT -> MVCT)\n",
    "reg2 = Registration(\n",
    "    'kvct_fixed',\n",
    "    fixed=f'{data_path}/head_and_neck/CT/image/',\n",
    "    moving=f'{data_path}/head_and_neck/MVCT/1/image/',\n",
    "    overwrite=True,\n",
    "    pfiles=reg.pfiles  # Copy parameter files from first registration\n",
    ")"
   ]
  },
  {
   "cell_type": "code",
   "execution_count": null,
   "id": "80a42a6c",
   "metadata": {},
   "outputs": [],
   "source": [
    "reg2.register()"
   ]
  },
  {
   "cell_type": "code",
   "execution_count": null,
   "id": "cf32dced",
   "metadata": {},
   "outputs": [],
   "source": [
    "reg2.view_result()"
   ]
  },
  {
   "cell_type": "code",
   "execution_count": null,
   "id": "4ede20ad",
   "metadata": {
    "scrolled": false
   },
   "outputs": [],
   "source": [
    "# Transform structure points\n",
    "reg2.capture_output = True\n",
    "structs_kv2 = reg2.transform(structs_kv, transform_points=True)\n",
    "structs_mv.view(rois=structs_kv2, compare_rois=True)"
   ]
  },
  {
   "cell_type": "code",
   "execution_count": null,
   "id": "f6b4f5ce",
   "metadata": {},
   "outputs": [],
   "source": [
    "# Or get pandas DataFrame - more useful for non-interactive work\n",
    "structs_mv.get_comparison(structs_kv2)"
   ]
  },
  {
   "cell_type": "code",
   "execution_count": null,
   "id": "1cbf67e1",
   "metadata": {
    "scrolled": false
   },
   "outputs": [],
   "source": [
    "# Compare both sets of transformed ROIs\n",
    "structs_kv2.view(rois=[structs_kv_transformed], compare_rois=['dice', 'dice_slice'])"
   ]
  },
  {
   "cell_type": "code",
   "execution_count": null,
   "id": "88a490f3",
   "metadata": {},
   "outputs": [],
   "source": [
    "# Make new StructureSet containing consensus of the two transforms\n",
    "combined = StructureSet()\n",
    "for name in structs_kv2.get_roi_names():\n",
    "    pair = StructureSet([structs_kv2.get_roi(name), structs_kv_transformed.get_roi(name)])\n",
    "    staple = pair.get_overlap()\n",
    "    staple.name = name\n",
    "    combined.add_roi(staple)"
   ]
  },
  {
   "cell_type": "code",
   "execution_count": null,
   "id": "6c329356",
   "metadata": {},
   "outputs": [],
   "source": [
    "combined.set_image(structs_kv2.image)\n",
    "combined.view(legend=True)"
   ]
  },
  {
   "cell_type": "code",
   "execution_count": null,
   "id": "7a6ac0cb",
   "metadata": {},
   "outputs": [],
   "source": []
  }
 ],
 "metadata": {
  "kernelspec": {
   "display_name": "Python 3",
   "language": "python",
   "name": "python3"
  },
  "language_info": {
   "codemirror_mode": {
    "name": "ipython",
    "version": 3
   },
   "file_extension": ".py",
   "mimetype": "text/x-python",
   "name": "python",
   "nbconvert_exporter": "python",
   "pygments_lexer": "ipython3",
   "version": "3.8.0"
  }
 },
 "nbformat": 4,
 "nbformat_minor": 5
}
